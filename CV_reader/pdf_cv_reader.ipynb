{
 "cells": [
  {
   "cell_type": "code",
   "execution_count": 8,
   "metadata": {},
   "outputs": [
    {
     "data": {
      "text/plain": [
       "<pdfreader.viewer.simple.SimplePDFViewer at 0x259c5f36890>"
      ]
     },
     "execution_count": 8,
     "metadata": {},
     "output_type": "execute_result"
    }
   ],
   "source": [
    "# Import necessary packages\n",
    "import os\n",
    "import pdfreader\n",
    "from pdfreader import PDFDocument, SimplePDFViewer\n",
    "\n",
    "# Test pdf file\n",
    "pdf_1 = open('testing/printed_test_CV.pdf', 'rb')\n",
    "viewer = SimplePDFViewer(pdf_1)\n",
    "\n",
    "for canvas in viewer:\n",
    "    page_images = canvas.images\n",
    "    page_forms = canvas.forms\n",
    "    page_text = canvas.text_content\n",
    "    page_inline_images = canvas.inline_images\n",
    "    page_strings = canvas.strings\n"
   ]
  }
 ],
 "metadata": {
  "kernelspec": {
   "display_name": "Python 3",
   "language": "python",
   "name": "python3"
  },
  "language_info": {
   "codemirror_mode": {
    "name": "ipython",
    "version": 3
   },
   "file_extension": ".py",
   "mimetype": "text/x-python",
   "name": "python",
   "nbconvert_exporter": "python",
   "pygments_lexer": "ipython3",
   "version": "3.11.4"
  }
 },
 "nbformat": 4,
 "nbformat_minor": 2
}
