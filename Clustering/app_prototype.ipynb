{
 "cells": [
  {
   "cell_type": "code",
   "execution_count": 10,
   "metadata": {},
   "outputs": [
    {
     "name": "stderr",
     "output_type": "stream",
     "text": [
      "/Users/daniel/opt/anaconda3/envs/efhackathon/lib/python3.11/site-packages/tqdm/auto.py:21: TqdmWarning: IProgress not found. Please update jupyter and ipywidgets. See https://ipywidgets.readthedocs.io/en/stable/user_install.html\n",
      "  from .autonotebook import tqdm as notebook_tqdm\n"
     ]
    }
   ],
   "source": [
    "import numpy as np\n",
    "import pandas as pd\n",
    "import matplotlib.pyplot as plt\n",
    "import re\n",
    "\n",
    "from pdfminer.high_level import extract_text\n",
    "\n",
    "import sentence_transformers\n"
   ]
  },
  {
   "cell_type": "code",
   "execution_count": 7,
   "metadata": {},
   "outputs": [
    {
     "data": {
      "text/plain": [
       "(12395, 384)"
      ]
     },
     "execution_count": 7,
     "metadata": {},
     "output_type": "execute_result"
    }
   ],
   "source": [
    "embeddings = pd.read_csv('../Data/embeddings.csv')\n",
    "embeddings.shape"
   ]
  },
  {
   "cell_type": "code",
   "execution_count": 51,
   "metadata": {},
   "outputs": [],
   "source": [
    "# embeddings.to_pickle('../Data/embeddings.pkl')"
   ]
  },
  {
   "cell_type": "code",
   "execution_count": 55,
   "metadata": {},
   "outputs": [
    {
     "data": {
      "text/plain": [
       "(12396, 24)"
      ]
     },
     "execution_count": 55,
     "metadata": {},
     "output_type": "execute_result"
    }
   ],
   "source": [
    "df = pd.read_csv('../Data/data_job_posts.csv')\n",
    "df.dropna(inplace=True, subset=['JobDescription', 'JobRequirment', 'RequiredQual'])\n",
    "df.drop_duplicates(inplace=True, subset=['Title', 'JobDescription', 'JobRequirment', 'RequiredQual'])\n",
    "df.shape"
   ]
  },
  {
   "cell_type": "code",
   "execution_count": 71,
   "metadata": {},
   "outputs": [],
   "source": [
    "# df.to_pickle('../Data/data_job_posts.pkl')"
   ]
  },
  {
   "cell_type": "code",
   "execution_count": 8,
   "metadata": {},
   "outputs": [],
   "source": [
    "def extract_text_from_pdf(pdf_path):\n",
    "    raw_text = extract_text(pdf_path)\n",
    "    formatted_text = re.sub(r'[^A-Za-z0-9]+', ' ', raw_text)\n",
    "    return formatted_text"
   ]
  },
  {
   "cell_type": "code",
   "execution_count": 56,
   "metadata": {},
   "outputs": [
    {
     "data": {
      "text/plain": [
       "'3 St Paul s Road Cambridge CB1 2EX UK EDUCATION William Purvis 44 777 122 7548 Linkedin wp289 cam ac uk MPhil Data Intensive Science University of Cambridge Modules in scientific computing C advanced statistics applied Data Science BSc Hons Chemistry University of St Andrews Achieved 1st Class degree Prize for best dissertation in Physical Chemistry Computational evaluation of kRISC in OLEDs Dean s List for academic excellence 2018 2019 2020 2021 2022 2023 Chemistry with Data Science University of Hong Kong HKU Completed team project analysing COVID 19 mutation rates from genome database A Levels Wellington College AAAA in Chemistry Biology Physics Mathematics Represented UK at the International Chemistry Tournament ICHTO in Moscow Gold in Chemistry Olympiad 2018 Chemistry subject prize in year 13 Oxford Medical Essay Prize 2017 IGCSEs International School of Geneva La Ch taigneraie 11 IGCSEs 8A 3As including computer science web design Honour roll with excellence years 10 11 highest achievement award in year 11 Represented Ukraine at the Student League of Nations at the UNOG PROFESSIONAL EXPERIENCE Machine Learning Researcher University of Toronto Aspuru Guzik group Completed MIT 6 036 Introduction to machine learning Developed ML models to predict optical properties and quantum energies of TADF molecules Business Analyst R SAMi Start up Analysed business requirements of last mile companies to identify operational challenges propose solutions Lead communication in English Spanish between product manager development team Represented R SAMi at the BBVA Open Innovation Summit Madrid Pension Fund Analyst Private Equity CERN Analysed PE investment portfolio of CERN Pension Fund 4 8 bn CHF AUM Authored report on fund performance for investment committee Optimised portfolio management system EXTRA CURRICULAR ACTIVITIES Vice President The Carnegie Club of St Andrews Responsible for club logistics coordinating debates speaker events Supervised executed website deployment project Director TEDx St Andrews Cambridge UK Sep 2023 Current St Andrews UK Sep 2018 Jun 2023 Hong Kong HK Sep 2021 Dec 2021 Crowthorne UK Sep 2016 Jun 2018 Geneva CH Sep 2011 Jun 2016 Toronto CA Jun 2023 Aug 2023 Palma ES Feb 2022 Sep 2022 Geneva CH Jun 2021 Jul 2021 St Andrews UK Mar 2020 Jun 2023 St Andrews UK Oct 2019 Jun 2021 Led team of 15 students to organise the 2021 TEDx St Andrews conference Coordinated the logistics finances speakers with the support of the TEDx team for a 2000 attendee conference TEFL English Language Teacher Winnerway School Taught English to class of 47 primary school students for a month Gained TEFL certification Additional skills Interests Dongguan CH Jun 2019 Jul 2019 IT skills Python numpy pytorch scikit learn pandas C linux JIRA Agile Scrum Kanban MS suite proficient Languages English mother tongue French fluent Spanish business proficiency Hobbies Snowboard coach Cambridge University Polo Club Kitesurfing Swiss scout for 7 years '"
      ]
     },
     "execution_count": 56,
     "metadata": {},
     "output_type": "execute_result"
    }
   ],
   "source": [
    "cv_txt = extract_text_from_pdf('../CVs/CV_MS_f.pdf')\n",
    "cv_txt"
   ]
  },
  {
   "cell_type": "markdown",
   "metadata": {},
   "source": [
    "# Encode CV"
   ]
  },
  {
   "cell_type": "code",
   "execution_count": 57,
   "metadata": {},
   "outputs": [
    {
     "data": {
      "text/plain": [
       "(384,)"
      ]
     },
     "execution_count": 57,
     "metadata": {},
     "output_type": "execute_result"
    }
   ],
   "source": [
    "model = sentence_transformers.SentenceTransformer('sentence-transformers/all-miniLM-L6-v2')\n",
    "cv_embedding  = model.encode(cv_txt)\n",
    "cv_embedding.shape"
   ]
  },
  {
   "cell_type": "code",
   "execution_count": 68,
   "metadata": {},
   "outputs": [],
   "source": [
    "query_embedding = model.encode(\"English Literature Professor lecture at University to a group of students on the subject of English Literature and Language\")"
   ]
  },
  {
   "cell_type": "code",
   "execution_count": 69,
   "metadata": {},
   "outputs": [],
   "source": [
    "# distances = np.linalg.norm(embeddings - cv_embedding, axis=1)\n",
    "distances = np.linalg.norm(embeddings - query_embedding, axis=1)\n",
    "\n",
    "n = 20\n",
    "closest = np.argsort(distances)[:n]"
   ]
  },
  {
   "cell_type": "code",
   "execution_count": 70,
   "metadata": {},
   "outputs": [
    {
     "data": {
      "text/html": [
       "<div>\n",
       "<style scoped>\n",
       "    .dataframe tbody tr th:only-of-type {\n",
       "        vertical-align: middle;\n",
       "    }\n",
       "\n",
       "    .dataframe tbody tr th {\n",
       "        vertical-align: top;\n",
       "    }\n",
       "\n",
       "    .dataframe thead th {\n",
       "        text-align: right;\n",
       "    }\n",
       "</style>\n",
       "<table border=\"1\" class=\"dataframe\">\n",
       "  <thead>\n",
       "    <tr style=\"text-align: right;\">\n",
       "      <th></th>\n",
       "      <th>Title</th>\n",
       "      <th>JobDescription</th>\n",
       "      <th>JobRequirment</th>\n",
       "      <th>RequiredQual</th>\n",
       "    </tr>\n",
       "  </thead>\n",
       "  <tbody>\n",
       "    <tr>\n",
       "      <th>16925</th>\n",
       "      <td>Chemist/ Analyst</td>\n",
       "      <td>DarmanTest Laboratories LLC is seeking a Chemi...</td>\n",
       "      <td>- Work in a chemical laboratory with chemical ...</td>\n",
       "      <td>- Degree in Advanced Chemistry, Pharmaceutics ...</td>\n",
       "    </tr>\n",
       "    <tr>\n",
       "      <th>3325</th>\n",
       "      <td>IT Processes Internal Auditor</td>\n",
       "      <td>ArmenTel is looking for candidates to fulfill ...</td>\n",
       "      <td>- Plan, organize and audit IT activities in th...</td>\n",
       "      <td>- University degree;\\r\\n- Knowledge of informa...</td>\n",
       "    </tr>\n",
       "    <tr>\n",
       "      <th>12492</th>\n",
       "      <td>Chief Steward</td>\n",
       "      <td>The incumbent will manage the daily kitchen ut...</td>\n",
       "      <td>Managing Day-to-Day Operations:\\r\\n- Order and...</td>\n",
       "      <td>- Fundamental competencies required for accomp...</td>\n",
       "    </tr>\n",
       "    <tr>\n",
       "      <th>11340</th>\n",
       "      <td>Head of Import Department</td>\n",
       "      <td>SAS GROUP is seeking a Head of Import Departme...</td>\n",
       "      <td>- Responsible for day to day liaison with frei...</td>\n",
       "      <td>- Experience in the sphere of import, logistic...</td>\n",
       "    </tr>\n",
       "    <tr>\n",
       "      <th>17511</th>\n",
       "      <td>Billing Specialist</td>\n",
       "      <td>The Billing Specialist is responsible for supp...</td>\n",
       "      <td>- Ensure that the rated calls, SMS and GPRS re...</td>\n",
       "      <td>- Bachelor's degree in a professional field (E...</td>\n",
       "    </tr>\n",
       "    <tr>\n",
       "      <th>10824</th>\n",
       "      <td>Web Designer</td>\n",
       "      <td>\"Weblab\" CJSC is seeking a motivated Web Desig...</td>\n",
       "      <td>Make complicated and excellent design websites.</td>\n",
       "      <td>- At least 2 years of work experience as a Web...</td>\n",
       "    </tr>\n",
       "    <tr>\n",
       "      <th>15074</th>\n",
       "      <td>Office Manager</td>\n",
       "      <td>The Office Manager will be responsible for pro...</td>\n",
       "      <td>- Provide internal and external communication:...</td>\n",
       "      <td>- Higher education in a relevant field; \\r\\n- ...</td>\n",
       "    </tr>\n",
       "    <tr>\n",
       "      <th>311</th>\n",
       "      <td>Human Resource Department Manager</td>\n",
       "      <td>Manage the human resources services and functi...</td>\n",
       "      <td>In line with the country strategy develop an H...</td>\n",
       "      <td>- A university degree in HR, social sciences o...</td>\n",
       "    </tr>\n",
       "    <tr>\n",
       "      <th>10685</th>\n",
       "      <td>Adviser</td>\n",
       "      <td>The incumbent will work for Escada. He/ she wi...</td>\n",
       "      <td>- Understand and champion the host brand strat...</td>\n",
       "      <td>- Higher education, preferably in Marketing or...</td>\n",
       "    </tr>\n",
       "    <tr>\n",
       "      <th>309</th>\n",
       "      <td>Program Officer</td>\n",
       "      <td>IREX is currently seeking a Program Officer\\r\\...</td>\n",
       "      <td>Primary responsibilities include but are not\\r...</td>\n",
       "      <td>- A Georgian university degree, preferably in ...</td>\n",
       "    </tr>\n",
       "    <tr>\n",
       "      <th>4321</th>\n",
       "      <td>Supervisor Marketing &amp; Trade Marketing</td>\n",
       "      <td>Philip Morris MSBV Representative office in Ar...</td>\n",
       "      <td>- Develop and propose a marketing strategy, wh...</td>\n",
       "      <td>- Bachelor's degree in a marketing discipline,...</td>\n",
       "    </tr>\n",
       "    <tr>\n",
       "      <th>18114</th>\n",
       "      <td>Marketing Manager</td>\n",
       "      <td>The Marketing Manager will be responsible for\\...</td>\n",
       "      <td>- Develop and implement the Company's marketin...</td>\n",
       "      <td>- University degree in Economics, Marketing or...</td>\n",
       "    </tr>\n",
       "    <tr>\n",
       "      <th>9510</th>\n",
       "      <td>Automation Q/A Engineer</td>\n",
       "      <td>Ogma Applicatrions CJSC is looking for few qua...</td>\n",
       "      <td>- Create and run Automation Test Cases using S...</td>\n",
       "      <td>- Good knowledge and experience in working wit...</td>\n",
       "    </tr>\n",
       "    <tr>\n",
       "      <th>14790</th>\n",
       "      <td>Senior Java Software Developer</td>\n",
       "      <td>Energize Global Services CJSC is looking for a...</td>\n",
       "      <td>- Participate in all cycles of software design...</td>\n",
       "      <td>- At least 4 years of work experience as a Sen...</td>\n",
       "    </tr>\n",
       "    <tr>\n",
       "      <th>13312</th>\n",
       "      <td>Payments and Cash Management - Intern</td>\n",
       "      <td>HSBC Bank Armenia is looking for enthusiastic ...</td>\n",
       "      <td>- Introduce HSBCnet system features to potenti...</td>\n",
       "      <td>- Bachelors degree in Finance, Economics, Engi...</td>\n",
       "    </tr>\n",
       "    <tr>\n",
       "      <th>1007</th>\n",
       "      <td>Programmer</td>\n",
       "      <td>Cascade Capital Holdings (CCH) CJSC is looking...</td>\n",
       "      <td>- Development of Finance Specific software;\\r\\...</td>\n",
       "      <td>- Knowledge of Visual Basic, SQL;\\r\\n- Knowled...</td>\n",
       "    </tr>\n",
       "    <tr>\n",
       "      <th>5593</th>\n",
       "      <td>Brand Manager</td>\n",
       "      <td>\"Sovrano\" LLC is seeking experienced candidate...</td>\n",
       "      <td>Job responsibilities include but are not limit...</td>\n",
       "      <td>- Degree in Marketing or another relevant fiel...</td>\n",
       "    </tr>\n",
       "    <tr>\n",
       "      <th>985</th>\n",
       "      <td>General Practitioner</td>\n",
       "      <td>Cascade Capital Holdings (CCH) CJSC is looking...</td>\n",
       "      <td>- Provide medical advise and services to the i...</td>\n",
       "      <td>- Medical degree;\\r\\n- Good working knowledge ...</td>\n",
       "    </tr>\n",
       "    <tr>\n",
       "      <th>2221</th>\n",
       "      <td>TEFL Technical Coordinator for Pre-Service Tra...</td>\n",
       "      <td>We are looking for a TEFL Technical Coordinato...</td>\n",
       "      <td>Responsibilities include: \\r\\n- Develop TEFL t...</td>\n",
       "      <td>- University degree in a relevant field;curric...</td>\n",
       "    </tr>\n",
       "    <tr>\n",
       "      <th>18378</th>\n",
       "      <td>Restaurant Manager</td>\n",
       "      <td>The incumbent should maintain an efficient and...</td>\n",
       "      <td>- Recruit, train and motivate the staff;\\r\\n- ...</td>\n",
       "      <td>- Knowledge of business and management princip...</td>\n",
       "    </tr>\n",
       "  </tbody>\n",
       "</table>\n",
       "</div>"
      ],
      "text/plain": [
       "                                                   Title  \\\n",
       "16925                                   Chemist/ Analyst   \n",
       "3325                       IT Processes Internal Auditor   \n",
       "12492                                      Chief Steward   \n",
       "11340                          Head of Import Department   \n",
       "17511                                 Billing Specialist   \n",
       "10824                                       Web Designer   \n",
       "15074                                     Office Manager   \n",
       "311                    Human Resource Department Manager   \n",
       "10685                                            Adviser   \n",
       "309                                      Program Officer   \n",
       "4321              Supervisor Marketing & Trade Marketing   \n",
       "18114                                  Marketing Manager   \n",
       "9510                             Automation Q/A Engineer   \n",
       "14790                     Senior Java Software Developer   \n",
       "13312              Payments and Cash Management - Intern   \n",
       "1007                                          Programmer   \n",
       "5593                                       Brand Manager   \n",
       "985                                 General Practitioner   \n",
       "2221   TEFL Technical Coordinator for Pre-Service Tra...   \n",
       "18378                                 Restaurant Manager   \n",
       "\n",
       "                                          JobDescription  \\\n",
       "16925  DarmanTest Laboratories LLC is seeking a Chemi...   \n",
       "3325   ArmenTel is looking for candidates to fulfill ...   \n",
       "12492  The incumbent will manage the daily kitchen ut...   \n",
       "11340  SAS GROUP is seeking a Head of Import Departme...   \n",
       "17511  The Billing Specialist is responsible for supp...   \n",
       "10824  \"Weblab\" CJSC is seeking a motivated Web Desig...   \n",
       "15074  The Office Manager will be responsible for pro...   \n",
       "311    Manage the human resources services and functi...   \n",
       "10685  The incumbent will work for Escada. He/ she wi...   \n",
       "309    IREX is currently seeking a Program Officer\\r\\...   \n",
       "4321   Philip Morris MSBV Representative office in Ar...   \n",
       "18114  The Marketing Manager will be responsible for\\...   \n",
       "9510   Ogma Applicatrions CJSC is looking for few qua...   \n",
       "14790  Energize Global Services CJSC is looking for a...   \n",
       "13312  HSBC Bank Armenia is looking for enthusiastic ...   \n",
       "1007   Cascade Capital Holdings (CCH) CJSC is looking...   \n",
       "5593   \"Sovrano\" LLC is seeking experienced candidate...   \n",
       "985    Cascade Capital Holdings (CCH) CJSC is looking...   \n",
       "2221   We are looking for a TEFL Technical Coordinato...   \n",
       "18378  The incumbent should maintain an efficient and...   \n",
       "\n",
       "                                           JobRequirment  \\\n",
       "16925  - Work in a chemical laboratory with chemical ...   \n",
       "3325   - Plan, organize and audit IT activities in th...   \n",
       "12492  Managing Day-to-Day Operations:\\r\\n- Order and...   \n",
       "11340  - Responsible for day to day liaison with frei...   \n",
       "17511  - Ensure that the rated calls, SMS and GPRS re...   \n",
       "10824    Make complicated and excellent design websites.   \n",
       "15074  - Provide internal and external communication:...   \n",
       "311    In line with the country strategy develop an H...   \n",
       "10685  - Understand and champion the host brand strat...   \n",
       "309    Primary responsibilities include but are not\\r...   \n",
       "4321   - Develop and propose a marketing strategy, wh...   \n",
       "18114  - Develop and implement the Company's marketin...   \n",
       "9510   - Create and run Automation Test Cases using S...   \n",
       "14790  - Participate in all cycles of software design...   \n",
       "13312  - Introduce HSBCnet system features to potenti...   \n",
       "1007   - Development of Finance Specific software;\\r\\...   \n",
       "5593   Job responsibilities include but are not limit...   \n",
       "985    - Provide medical advise and services to the i...   \n",
       "2221   Responsibilities include: \\r\\n- Develop TEFL t...   \n",
       "18378  - Recruit, train and motivate the staff;\\r\\n- ...   \n",
       "\n",
       "                                            RequiredQual  \n",
       "16925  - Degree in Advanced Chemistry, Pharmaceutics ...  \n",
       "3325   - University degree;\\r\\n- Knowledge of informa...  \n",
       "12492  - Fundamental competencies required for accomp...  \n",
       "11340  - Experience in the sphere of import, logistic...  \n",
       "17511  - Bachelor's degree in a professional field (E...  \n",
       "10824  - At least 2 years of work experience as a Web...  \n",
       "15074  - Higher education in a relevant field; \\r\\n- ...  \n",
       "311    - A university degree in HR, social sciences o...  \n",
       "10685  - Higher education, preferably in Marketing or...  \n",
       "309    - A Georgian university degree, preferably in ...  \n",
       "4321   - Bachelor's degree in a marketing discipline,...  \n",
       "18114  - University degree in Economics, Marketing or...  \n",
       "9510   - Good knowledge and experience in working wit...  \n",
       "14790  - At least 4 years of work experience as a Sen...  \n",
       "13312  - Bachelors degree in Finance, Economics, Engi...  \n",
       "1007   - Knowledge of Visual Basic, SQL;\\r\\n- Knowled...  \n",
       "5593   - Degree in Marketing or another relevant fiel...  \n",
       "985    - Medical degree;\\r\\n- Good working knowledge ...  \n",
       "2221   - University degree in a relevant field;curric...  \n",
       "18378  - Knowledge of business and management princip...  "
      ]
     },
     "execution_count": 70,
     "metadata": {},
     "output_type": "execute_result"
    }
   ],
   "source": [
    "df.iloc[closest][['Title', 'JobDescription', 'JobRequirment', 'RequiredQual']]"
   ]
  },
  {
   "cell_type": "code",
   "execution_count": null,
   "metadata": {},
   "outputs": [],
   "source": []
  }
 ],
 "metadata": {
  "kernelspec": {
   "display_name": "efhackathon",
   "language": "python",
   "name": "python3"
  },
  "language_info": {
   "codemirror_mode": {
    "name": "ipython",
    "version": 3
   },
   "file_extension": ".py",
   "mimetype": "text/x-python",
   "name": "python",
   "nbconvert_exporter": "python",
   "pygments_lexer": "ipython3",
   "version": "3.11.6"
  }
 },
 "nbformat": 4,
 "nbformat_minor": 2
}
