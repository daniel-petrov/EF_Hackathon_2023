{
 "cells": [
  {
   "cell_type": "code",
   "execution_count": 10,
   "metadata": {},
   "outputs": [
    {
     "name": "stderr",
     "output_type": "stream",
     "text": [
      "/Users/daniel/opt/anaconda3/envs/efhackathon/lib/python3.11/site-packages/tqdm/auto.py:21: TqdmWarning: IProgress not found. Please update jupyter and ipywidgets. See https://ipywidgets.readthedocs.io/en/stable/user_install.html\n",
      "  from .autonotebook import tqdm as notebook_tqdm\n"
     ]
    }
   ],
   "source": [
    "import numpy as np\n",
    "import pandas as pd\n",
    "import matplotlib.pyplot as plt\n",
    "import re\n",
    "\n",
    "from pdfminer.high_level import extract_text\n",
    "\n",
    "import sentence_transformers\n"
   ]
  },
  {
   "cell_type": "code",
   "execution_count": 7,
   "metadata": {},
   "outputs": [
    {
     "data": {
      "text/plain": [
       "(12395, 384)"
      ]
     },
     "execution_count": 7,
     "metadata": {},
     "output_type": "execute_result"
    }
   ],
   "source": [
    "embeddings = pd.read_csv('../Data/embeddings.csv')\n",
    "embeddings.shape"
   ]
  },
  {
   "cell_type": "code",
   "execution_count": 51,
   "metadata": {},
   "outputs": [],
   "source": [
    "# embeddings.to_pickle('../Data/embeddings.pkl')"
   ]
  },
  {
   "cell_type": "code",
   "execution_count": 8,
   "metadata": {},
   "outputs": [],
   "source": [
    "def extract_text_from_pdf(pdf_path):\n",
    "    raw_text = extract_text(pdf_path)\n",
    "    formatted_text = re.sub(r'[^A-Za-z0-9]+', ' ', raw_text)\n",
    "    return formatted_text"
   ]
  },
  {
   "cell_type": "code",
   "execution_count": 46,
   "metadata": {},
   "outputs": [
    {
     "data": {
      "text/plain": [
       "'3 St Paul s Road Cambridge CB1 2EX UK EDUCATION William Purvis 44 777 122 7548 Linkedin wp289 cam ac uk MPhil Data Intensive Science University of Cambridge Modules in scientific computing C advanced statistics applied Data Science BSc Hons Chemistry University of St Andrews Achieved 1st Class degree Prize for best dissertation in Physical Chemistry Computational evaluation of kRISC in OLEDs Dean s List for academic excellence 2018 2019 2020 2021 2022 2023 Chemistry with Data Science University of Hong Kong HKU Completed team project analysing COVID 19 mutation rates from genome database A Levels Wellington College AAAA in Chemistry Biology Physics Mathematics Represented UK at the International Chemistry Tournament ICHTO in Moscow Gold in Chemistry Olympiad 2018 Chemistry subject prize in year 13 Oxford Medical Essay Prize 2017 IGCSEs International School of Geneva La Ch taigneraie 11 IGCSEs 8A 3As including computer science web design Honour roll with excellence years 10 11 highest achievement award in year 11 Represented Ukraine at the Student League of Nations at the UNOG PROFESSIONAL EXPERIENCE Machine Learning Researcher University of Toronto Aspuru Guzik group Completed MIT 6 036 Introduction to machine learning Developed ML models to predict optical properties and quantum energies of TADF molecules Business Analyst R SAMi Start up Analysed business requirements of last mile companies to identify operational challenges propose solutions Lead communication in English Spanish between product manager development team Represented R SAMi at the BBVA Open Innovation Summit Madrid Pension Fund Analyst Private Equity CERN Analysed PE investment portfolio of CERN Pension Fund 4 8 bn CHF AUM Authored report on fund performance for investment committee Optimised portfolio management system EXTRA CURRICULAR ACTIVITIES Vice President The Carnegie Club of St Andrews Responsible for club logistics coordinating debates speaker events Supervised executed website deployment project Director TEDx St Andrews Cambridge UK Sep 2023 Current St Andrews UK Sep 2018 Jun 2023 Hong Kong HK Sep 2021 Dec 2021 Crowthorne UK Sep 2016 Jun 2018 Geneva CH Sep 2011 Jun 2016 Toronto CA Jun 2023 Aug 2023 Palma ES Feb 2022 Sep 2022 Geneva CH Jun 2021 Jul 2021 St Andrews UK Mar 2020 Jun 2023 St Andrews UK Oct 2019 Jun 2021 Led team of 15 students to organise the 2021 TEDx St Andrews conference Coordinated the logistics finances speakers with the support of the TEDx team for a 2000 attendee conference TEFL English Language Teacher Winnerway School Taught English to class of 47 primary school students for a month Gained TEFL certification Additional skills Interests Dongguan CH Jun 2019 Jul 2019 IT skills Python numpy pytorch scikit learn pandas C linux JIRA Agile Scrum Kanban MS suite proficient Languages English mother tongue French fluent Spanish business proficiency Hobbies Snowboard coach Cambridge University Polo Club Kitesurfing Swiss scout for 7 years '"
      ]
     },
     "execution_count": 46,
     "metadata": {},
     "output_type": "execute_result"
    }
   ],
   "source": [
    "cv_txt = extract_text_from_pdf('../CVs/CV_MS_f.pdf')\n",
    "cv_txt"
   ]
  },
  {
   "cell_type": "markdown",
   "metadata": {},
   "source": [
    "# Encode CV"
   ]
  },
  {
   "cell_type": "code",
   "execution_count": 47,
   "metadata": {},
   "outputs": [
    {
     "data": {
      "text/plain": [
       "(384,)"
      ]
     },
     "execution_count": 47,
     "metadata": {},
     "output_type": "execute_result"
    }
   ],
   "source": [
    "model = sentence_transformers.SentenceTransformer('sentence-transformers/all-miniLM-L6-v2')\n",
    "cv_embedding  = model.encode(cv_txt)\n",
    "cv_embedding.shape"
   ]
  },
  {
   "cell_type": "code",
   "execution_count": 48,
   "metadata": {},
   "outputs": [],
   "source": [
    "distances = np.linalg.norm(embeddings - cv_embedding, axis=1)\n",
    "\n",
    "n = 20\n",
    "closest = np.argsort(distances)[:n]"
   ]
  },
  {
   "cell_type": "code",
   "execution_count": 49,
   "metadata": {},
   "outputs": [
    {
     "data": {
      "text/plain": [
       "(12396, 24)"
      ]
     },
     "execution_count": 49,
     "metadata": {},
     "output_type": "execute_result"
    }
   ],
   "source": [
    "df = pd.read_csv('../Data/data_job_posts.csv')\n",
    "df.dropna(inplace=True, subset=['JobDescription', 'JobRequirment', 'RequiredQual'])\n",
    "df.drop_duplicates(subset=['Title', 'JobDescription', 'JobRequirment', 'RequiredQual'], inplace=True)\n",
    "df.shape"
   ]
  },
  {
   "cell_type": "code",
   "execution_count": 50,
   "metadata": {},
   "outputs": [
    {
     "data": {
      "text/html": [
       "<div>\n",
       "<style scoped>\n",
       "    .dataframe tbody tr th:only-of-type {\n",
       "        vertical-align: middle;\n",
       "    }\n",
       "\n",
       "    .dataframe tbody tr th {\n",
       "        vertical-align: top;\n",
       "    }\n",
       "\n",
       "    .dataframe thead th {\n",
       "        text-align: right;\n",
       "    }\n",
       "</style>\n",
       "<table border=\"1\" class=\"dataframe\">\n",
       "  <thead>\n",
       "    <tr style=\"text-align: right;\">\n",
       "      <th></th>\n",
       "      <th>Title</th>\n",
       "      <th>JobDescription</th>\n",
       "      <th>JobRequirment</th>\n",
       "      <th>RequiredQual</th>\n",
       "    </tr>\n",
       "  </thead>\n",
       "  <tbody>\n",
       "    <tr>\n",
       "      <th>7995</th>\n",
       "      <td>Implementation and Logistics Coordinator</td>\n",
       "      <td>The incumbent will coordinate the work of the\\...</td>\n",
       "      <td>- Coordinate, assign and review the work of st...</td>\n",
       "      <td>- University degree (masters degree is desirab...</td>\n",
       "    </tr>\n",
       "    <tr>\n",
       "      <th>8676</th>\n",
       "      <td>Office Manager/ Secretary</td>\n",
       "      <td>A &amp; M Rare is looking for a person for the pos...</td>\n",
       "      <td>- Asnwer all incoming phone calls;\\r\\n- Organi...</td>\n",
       "      <td>- Minimum 2 years of work experience in a simi...</td>\n",
       "    </tr>\n",
       "    <tr>\n",
       "      <th>7376</th>\n",
       "      <td>Automated Test Engineer</td>\n",
       "      <td>The primary objective of this position is auto...</td>\n",
       "      <td>- Design and code automated testing scripts;\\r...</td>\n",
       "      <td>- Bachelor's degree in Computer Sciences or a ...</td>\n",
       "    </tr>\n",
       "    <tr>\n",
       "      <th>11474</th>\n",
       "      <td>Place and Route Software Engineer</td>\n",
       "      <td>Mentor Graphics Development Services CJSC is l...</td>\n",
       "      <td>The incumbent will be responsible for design,\\...</td>\n",
       "      <td>- MS in Computer Science, Electrical Engineeri...</td>\n",
       "    </tr>\n",
       "    <tr>\n",
       "      <th>7227</th>\n",
       "      <td>Software Project Coordinator</td>\n",
       "      <td>Software Project Coordinator will be responsib...</td>\n",
       "      <td>- Gain agreement on release commitments betwee...</td>\n",
       "      <td>- BS/ MS in Computer Science/ Electrical Engin...</td>\n",
       "    </tr>\n",
       "    <tr>\n",
       "      <th>7825</th>\n",
       "      <td>Senior Software Engineer/ GUI Architect, User ...</td>\n",
       "      <td>The Senior Software Engineer will lead challen...</td>\n",
       "      <td>Implement complex GUI by architecting and\\r\\nd...</td>\n",
       "      <td>- MS+ in CS/ Math/ Physics/ EE or related fiel...</td>\n",
       "    </tr>\n",
       "    <tr>\n",
       "      <th>7020</th>\n",
       "      <td>System Administrator/ Leading Specialist</td>\n",
       "      <td>The candidate will be considered for the posit...</td>\n",
       "      <td>Responsibilities include, but are not limited ...</td>\n",
       "      <td>- University degree in Computer Sciences, Tele...</td>\n",
       "    </tr>\n",
       "    <tr>\n",
       "      <th>12530</th>\n",
       "      <td>Lead Software Engineer - Deep Submicron Depart...</td>\n",
       "      <td>The Lead Software Engineer will lead the desig...</td>\n",
       "      <td>Research, design and implement efficient\\r\\nal...</td>\n",
       "      <td>- At least MS in CS/ Physics/ Math or related;...</td>\n",
       "    </tr>\n",
       "    <tr>\n",
       "      <th>10874</th>\n",
       "      <td>Credit Officer for Artashat Branch</td>\n",
       "      <td>The Credit Officer will be responsible for all...</td>\n",
       "      <td>- Implement preparation of work with clients;\\...</td>\n",
       "      <td>- Higher education preferably in Economics;\\r\\...</td>\n",
       "    </tr>\n",
       "    <tr>\n",
       "      <th>11964</th>\n",
       "      <td>C# Developer</td>\n",
       "      <td>Damaris AM Ltd is looking for a qualified C/ C...</td>\n",
       "      <td>- Design and develop desktop and web-based app...</td>\n",
       "      <td>- Bachelor's degree in Computer Sciences; Mast...</td>\n",
       "    </tr>\n",
       "    <tr>\n",
       "      <th>12266</th>\n",
       "      <td>Agribusiness Finance Project Manager</td>\n",
       "      <td>GoodCredit is seeking Agribusiness Finance Pro...</td>\n",
       "      <td>- Work in coordination with ATF and take a lea...</td>\n",
       "      <td>- MBA or equivalent qualification;\\r\\n- At lea...</td>\n",
       "    </tr>\n",
       "    <tr>\n",
       "      <th>9209</th>\n",
       "      <td>Strategic Community Development Technical Advisor</td>\n",
       "      <td>Counterpart International Inc. - Armenia is\\r\\...</td>\n",
       "      <td>- Provide direct technical assistance in the c...</td>\n",
       "      <td>- Higher education, preferably in Political Sc...</td>\n",
       "    </tr>\n",
       "    <tr>\n",
       "      <th>10350</th>\n",
       "      <td>Portfolio Manager</td>\n",
       "      <td>The incumbent will be responsible for general ...</td>\n",
       "      <td>- Manage and organize necessary activities to ...</td>\n",
       "      <td>- Relevant graduate degree, preferably in Inte...</td>\n",
       "    </tr>\n",
       "    <tr>\n",
       "      <th>10006</th>\n",
       "      <td>Social Games Product Manager</td>\n",
       "      <td>Plexonic needs a Social Games Product Manager ...</td>\n",
       "      <td>The Social Games Product Manager will be\\r\\nre...</td>\n",
       "      <td>- Experience is not required (but is an advant...</td>\n",
       "    </tr>\n",
       "    <tr>\n",
       "      <th>9392</th>\n",
       "      <td>Journalist</td>\n",
       "      <td>The role of the Journalist is to contribute in...</td>\n",
       "      <td>- Participate in media research projects;\\r\\n-...</td>\n",
       "      <td>- 1.5 year of full-time work experience in med...</td>\n",
       "    </tr>\n",
       "    <tr>\n",
       "      <th>11475</th>\n",
       "      <td>Senior Software Engineer - Deep Submicron Depa...</td>\n",
       "      <td>The Senior Software Engineer will take a leadi...</td>\n",
       "      <td>Research, design and implement efficient\\r\\nal...</td>\n",
       "      <td>- MS in CS/ Physics/ Math or in a related fiel...</td>\n",
       "    </tr>\n",
       "    <tr>\n",
       "      <th>8744</th>\n",
       "      <td>Software Engineer, Deep Submicron Department</td>\n",
       "      <td>Software Engineer will take part in design and...</td>\n",
       "      <td>Research, design and implement efficient\\r\\nal...</td>\n",
       "      <td>- MS+ in CS/Physics/Math or related, PhD is pr...</td>\n",
       "    </tr>\n",
       "    <tr>\n",
       "      <th>10880</th>\n",
       "      <td>Territory Executive</td>\n",
       "      <td>Territory Executive will contribute to growth ...</td>\n",
       "      <td>- Retail Census;\\r\\n- Route plan;\\r\\n- Make re...</td>\n",
       "      <td>- University degree;\\r\\n- At least 1 year of w...</td>\n",
       "    </tr>\n",
       "    <tr>\n",
       "      <th>9812</th>\n",
       "      <td>Corporate Affairs Trainee</td>\n",
       "      <td>The Corporate Affairs Trainee will assist Supe...</td>\n",
       "      <td>- Assist in analyzing fiscal, product, sales a...</td>\n",
       "      <td>- Excellent knowledge of languages: Armenian, ...</td>\n",
       "    </tr>\n",
       "    <tr>\n",
       "      <th>10885</th>\n",
       "      <td>Lawyer</td>\n",
       "      <td>The candidate will organize, support and facil...</td>\n",
       "      <td>- Analyze the available data and suggest the b...</td>\n",
       "      <td>The following knowledge, skills and abilities\\...</td>\n",
       "    </tr>\n",
       "  </tbody>\n",
       "</table>\n",
       "</div>"
      ],
      "text/plain": [
       "                                                   Title  \\\n",
       "7995            Implementation and Logistics Coordinator   \n",
       "8676                           Office Manager/ Secretary   \n",
       "7376                             Automated Test Engineer   \n",
       "11474                  Place and Route Software Engineer   \n",
       "7227                        Software Project Coordinator   \n",
       "7825   Senior Software Engineer/ GUI Architect, User ...   \n",
       "7020            System Administrator/ Leading Specialist   \n",
       "12530  Lead Software Engineer - Deep Submicron Depart...   \n",
       "10874                 Credit Officer for Artashat Branch   \n",
       "11964                                       C# Developer   \n",
       "12266               Agribusiness Finance Project Manager   \n",
       "9209   Strategic Community Development Technical Advisor   \n",
       "10350                                  Portfolio Manager   \n",
       "10006                       Social Games Product Manager   \n",
       "9392                                          Journalist   \n",
       "11475  Senior Software Engineer - Deep Submicron Depa...   \n",
       "8744        Software Engineer, Deep Submicron Department   \n",
       "10880                                Territory Executive   \n",
       "9812                           Corporate Affairs Trainee   \n",
       "10885                                             Lawyer   \n",
       "\n",
       "                                          JobDescription  \\\n",
       "7995   The incumbent will coordinate the work of the\\...   \n",
       "8676   A & M Rare is looking for a person for the pos...   \n",
       "7376   The primary objective of this position is auto...   \n",
       "11474  Mentor Graphics Development Services CJSC is l...   \n",
       "7227   Software Project Coordinator will be responsib...   \n",
       "7825   The Senior Software Engineer will lead challen...   \n",
       "7020   The candidate will be considered for the posit...   \n",
       "12530  The Lead Software Engineer will lead the desig...   \n",
       "10874  The Credit Officer will be responsible for all...   \n",
       "11964  Damaris AM Ltd is looking for a qualified C/ C...   \n",
       "12266  GoodCredit is seeking Agribusiness Finance Pro...   \n",
       "9209   Counterpart International Inc. - Armenia is\\r\\...   \n",
       "10350  The incumbent will be responsible for general ...   \n",
       "10006  Plexonic needs a Social Games Product Manager ...   \n",
       "9392   The role of the Journalist is to contribute in...   \n",
       "11475  The Senior Software Engineer will take a leadi...   \n",
       "8744   Software Engineer will take part in design and...   \n",
       "10880  Territory Executive will contribute to growth ...   \n",
       "9812   The Corporate Affairs Trainee will assist Supe...   \n",
       "10885  The candidate will organize, support and facil...   \n",
       "\n",
       "                                           JobRequirment  \\\n",
       "7995   - Coordinate, assign and review the work of st...   \n",
       "8676   - Asnwer all incoming phone calls;\\r\\n- Organi...   \n",
       "7376   - Design and code automated testing scripts;\\r...   \n",
       "11474  The incumbent will be responsible for design,\\...   \n",
       "7227   - Gain agreement on release commitments betwee...   \n",
       "7825   Implement complex GUI by architecting and\\r\\nd...   \n",
       "7020   Responsibilities include, but are not limited ...   \n",
       "12530  Research, design and implement efficient\\r\\nal...   \n",
       "10874  - Implement preparation of work with clients;\\...   \n",
       "11964  - Design and develop desktop and web-based app...   \n",
       "12266  - Work in coordination with ATF and take a lea...   \n",
       "9209   - Provide direct technical assistance in the c...   \n",
       "10350  - Manage and organize necessary activities to ...   \n",
       "10006  The Social Games Product Manager will be\\r\\nre...   \n",
       "9392   - Participate in media research projects;\\r\\n-...   \n",
       "11475  Research, design and implement efficient\\r\\nal...   \n",
       "8744   Research, design and implement efficient\\r\\nal...   \n",
       "10880  - Retail Census;\\r\\n- Route plan;\\r\\n- Make re...   \n",
       "9812   - Assist in analyzing fiscal, product, sales a...   \n",
       "10885  - Analyze the available data and suggest the b...   \n",
       "\n",
       "                                            RequiredQual  \n",
       "7995   - University degree (masters degree is desirab...  \n",
       "8676   - Minimum 2 years of work experience in a simi...  \n",
       "7376   - Bachelor's degree in Computer Sciences or a ...  \n",
       "11474  - MS in Computer Science, Electrical Engineeri...  \n",
       "7227   - BS/ MS in Computer Science/ Electrical Engin...  \n",
       "7825   - MS+ in CS/ Math/ Physics/ EE or related fiel...  \n",
       "7020   - University degree in Computer Sciences, Tele...  \n",
       "12530  - At least MS in CS/ Physics/ Math or related;...  \n",
       "10874  - Higher education preferably in Economics;\\r\\...  \n",
       "11964  - Bachelor's degree in Computer Sciences; Mast...  \n",
       "12266  - MBA or equivalent qualification;\\r\\n- At lea...  \n",
       "9209   - Higher education, preferably in Political Sc...  \n",
       "10350  - Relevant graduate degree, preferably in Inte...  \n",
       "10006  - Experience is not required (but is an advant...  \n",
       "9392   - 1.5 year of full-time work experience in med...  \n",
       "11475  - MS in CS/ Physics/ Math or in a related fiel...  \n",
       "8744   - MS+ in CS/Physics/Math or related, PhD is pr...  \n",
       "10880  - University degree;\\r\\n- At least 1 year of w...  \n",
       "9812   - Excellent knowledge of languages: Armenian, ...  \n",
       "10885  The following knowledge, skills and abilities\\...  "
      ]
     },
     "execution_count": 50,
     "metadata": {},
     "output_type": "execute_result"
    }
   ],
   "source": [
    "df.iloc[closest][['Title', 'JobDescription', 'JobRequirment', 'RequiredQual']]"
   ]
  },
  {
   "cell_type": "code",
   "execution_count": null,
   "metadata": {},
   "outputs": [],
   "source": []
  }
 ],
 "metadata": {
  "kernelspec": {
   "display_name": "efhackathon",
   "language": "python",
   "name": "python3"
  },
  "language_info": {
   "codemirror_mode": {
    "name": "ipython",
    "version": 3
   },
   "file_extension": ".py",
   "mimetype": "text/x-python",
   "name": "python",
   "nbconvert_exporter": "python",
   "pygments_lexer": "ipython3",
   "version": "3.11.6"
  }
 },
 "nbformat": 4,
 "nbformat_minor": 2
}
