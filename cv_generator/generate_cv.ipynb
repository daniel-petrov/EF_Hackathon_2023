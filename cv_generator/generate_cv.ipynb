{
 "cells": [
  {
   "cell_type": "code",
   "execution_count": 5,
   "metadata": {},
   "outputs": [
    {
     "name": "stdout",
     "output_type": "stream",
     "text": [
      "ChatCompletionMessage(content=\"In the realm where code intertwines,\\nRecursion dances and gently shines.\\nA loop within itself, a tale untold,\\nA method calling itself, a story bold.\\n\\nImagine a maze, of paths untamed,\\nWith twists and turns, no end proclaimed.\\nTo navigate this labyrinth so vast,\\nRecursion comes, the die is cast.\\n\\nA function, it starts, with a recursive call,\\nInto the twists and turns, it will gallantly fall.\\nFrom the first step taken, a seed is sown,\\nBranching outwards, like nature's own.\\n\\nEach call teases, beckoning the next,\\nA journey begun, an infinite quest.\\nThe problem divided, conquered in parts,\\nRecursion whispers to our humble hearts.\\n\\nLike a mirror reflecting upon itself,\\nThe function returns, restoring the shelf.\\nBut not without pondering another call,\\nRepeating the steps, it never does stall.\\n\\nInfinite fractals, repeating patterns emerge,\\nWhere simplicity hides, and logic does surge.\\nA tower of function calls, rising high,\\nUnraveling the maze, reaching for the sky.\\n\\nBut caution, dear coder, this dance so sweet,\\nFor recursion's embrace can sweep you off your feet.\\nWithout base case, no end shall be found,\\nAn endless loop, going round and round.\\n\\nYet when embraced with knowledge and care,\\nRecursion's beauty, beyond compare.\\nA tool to solve complex problems profound,\\nUnraveling mysteries, like a whispering sound.\\n\\nSo venture forth, dear coder, fear no strife,\\nWith recursion as your faithful guide.\\nIn loops within loops, and code interwoven,\\nComplexity unravels, the unknown is woven.\", role='assistant', function_call=None, tool_calls=None)\n"
     ]
    }
   ],
   "source": [
    "from openai import OpenAI\n",
    "from dotenv import load_dotenv\n",
    "load_dotenv()\n",
    "\n",
    "\n",
    "client = OpenAI()\n",
    "completion = client.chat.completions.create(\n",
    "  model=\"gpt-3.5-turbo\",\n",
    "  messages=[\n",
    "    {\"role\": \"system\", \"content\": \"You are a poetic assistant, skilled in explaining complex programming concepts with creative flair.\"},\n",
    "    {\"role\": \"user\", \"content\": \"Compose a poem that explains the concept of recursion in programming.\"}\n",
    "  ]\n",
    ")\n",
    "\n",
    "print(completion.choices[0].message)"
   ]
  },
  {
   "cell_type": "code",
   "execution_count": 11,
   "metadata": {},
   "outputs": [
    {
     "name": "stdout",
     "output_type": "stream",
     "text": [
      "ChatCompletionMessage(content=\"Dear Hiring Manager,\\n\\nI am writing to express my interest in the position of Chief Financial Officer at AMERIA Investment Consulting Company. With my strong academic background in finance and extensive experience in both financial management and investment management, I believe I would be a valuable asset to your team.\\n\\nIn my current role as a Private Equity Intern at CERN Pension Fund, I have gained valuable experience in analyzing investment opportunities, conducting due diligence, and managing investment portfolios. I have also had the opportunity to work with a diverse team and develop strong leadership and management skills. Additionally, my experience as an English language teacher and delegate for the Student League of Nations has honed my communication and interpersonal skills, which I believe are crucial for building strong relationships with clients and stakeholders.\\n\\nI am highly proficient in financial management, with a keen ability to analyze financial data, develop financial strategies, and make informed investment decisions. In my previous role as a Bloomberg Summer Insight Scheme participant, I gained hands-on experience in financial analytics and learned to utilize various financial tools and software.\\n\\nFurthermore, my strong analytical thinking and problem-solving skills, combined with my natural mathematical and scientific abilities, make me well-suited for this position. I am detail-oriented, organized, and have a proven track record of academic excellence, as evidenced by my Dean's List achievements at both The University of Hong Kong and St Andrews University.\\n\\nI am confident that my skills and experience make me a strong candidate for the Chief Financial Officer position at AMERIA Investment Consulting Company. I am excited about the opportunity to contribute to the company's success and help drive strategic financial growth. Thank you for considering my application.\\n\\nSincerely,\\nWilliam Purvis\", role='assistant', function_call=None, tool_calls=None)\n"
     ]
    }
   ],
   "source": [
    "cv = \"Curriculum Vitae William Purvis 2021 WILLIAM PURVIS 852 5336 0502 44 777 122 7548 LinkedIn williampurvis00 gmail com Summary A highly motivated student with a talent for problem solving and analytical thinking A collaborator who enjoys both sports and voluntary work with a track record of high academic achievements in all subjects and particularly strong natural mathematical and scientific abilities Academic history 2021 Current The University of Hong Kong Hong Kong Study Abroad Dean s List Chemistry with Data Science 2018 2023 St Andrews University UK BSc Predicted First Chemistry with modules in Mathematics and Italian 2016 2018 Wellington College UK A levels AAAA Chemistry Biology Physics Mathematics 2011 2016 International School of Geneva La Ch taigneraie Switzerland IGCSEs A A A A A A AA Biology Chemistry English Literature Geography French Physics English Language Mathematics Internal exams A A A Computer Science Web Design Additional Mathematics Academic achievements Dean s List for academic excellence St Andrews 2018 2019 and 2020 2021 Chemistry subject prize in Year 13 Gold in chemistry Olympiad 2018 Represented UK at the International Chemistry Tournament ICHTO in Moscow Nominated for highest achievement award in Year 11 Academic honour roll with excellence in Years 10 11 Work experience work shadowing CERN Pension Fund Private Equity Intern Geneva Switzerland June 2021 Bloomberg Summer Insight Scheme Online London August 2020 TEFL certified English language teacher Winnerway school Dongguan China June July 2019 Work shadowing experience clinical informatics Covance Maidenhead June 2019 Work shadowing experience stem cell research lab Animal Health Trust Newmarket August 2017 Charity assistance Ravenswood Care home Berkshire United Kingdom 2016 2017 Benevolent work teaching WATU school Arusha Tanzania June 2016 Delegate for Student League of Nations United Nations of Geneva Switzerland December 2015 Hobbies and interest TEDxUniversityofStAndrews conference director 2020 2021 University of St Andrews Polo Team Carnegie Club of St Andrews Chief of Technology Swiss scout for seven years skills acquired leadership camping first aid and topography Languages English mother tongue French fluent Python DS orientation Italian Basic\"\n",
    "job_desc = 'AMERIA Investment Consulting Company is seeking a Chief Financial Officer This position manages the company s fiscal and administrative functions provides highly responsible and technically complex staff assistance to the Executive Director The work performed requires a high level of technical proficiency in financial management and investment management as well as management supervisory and administrative skills '\n",
    "\n",
    "\n",
    "prompt = f\"Create a cover letter based on the following CV and job description.\\n\\nCV:\\n{cv}\\n\\nJob Description:\\n{job_desc}\\n\\nCover Letter:\"\n",
    "\n",
    "client = OpenAI()\n",
    "response = client.chat.completions.create(\n",
    "    model=\"gpt-3.5-turbo\",\n",
    "    messages=[\n",
    "        {\"role\": \"system\", \"content\": \"You are a helpful assistant. Create a cover letter based on the following CV and job description.\"},\n",
    "        {\"role\": \"user\", \"content\": f\"CV:\\n{cv}\\n\\nJob Description:\\n{job_desc}\"}\n",
    "    ]\n",
    ")\n",
    "\n",
    "cover_letter = response.choices[0].message\n",
    "print(cover_letter)\n"
   ]
  },
  {
   "cell_type": "code",
   "execution_count": 18,
   "metadata": {},
   "outputs": [
    {
     "data": {
      "text/plain": [
       "\"Dear Hiring Manager,\\n\\nI am writing to express my interest in the position of Chief Financial Officer at AMERIA Investment Consulting Company. With my strong academic background in finance and extensive experience in both financial management and investment management, I believe I would be a valuable asset to your team.\\n\\nIn my current role as a Private Equity Intern at CERN Pension Fund, I have gained valuable experience in analyzing investment opportunities, conducting due diligence, and managing investment portfolios. I have also had the opportunity to work with a diverse team and develop strong leadership and management skills. Additionally, my experience as an English language teacher and delegate for the Student League of Nations has honed my communication and interpersonal skills, which I believe are crucial for building strong relationships with clients and stakeholders.\\n\\nI am highly proficient in financial management, with a keen ability to analyze financial data, develop financial strategies, and make informed investment decisions. In my previous role as a Bloomberg Summer Insight Scheme participant, I gained hands-on experience in financial analytics and learned to utilize various financial tools and software.\\n\\nFurthermore, my strong analytical thinking and problem-solving skills, combined with my natural mathematical and scientific abilities, make me well-suited for this position. I am detail-oriented, organized, and have a proven track record of academic excellence, as evidenced by my Dean's List achievements at both The University of Hong Kong and St Andrews University.\\n\\nI am confident that my skills and experience make me a strong candidate for the Chief Financial Officer position at AMERIA Investment Consulting Company. I am excited about the opportunity to contribute to the company's success and help drive strategic financial growth. Thank you for considering my application.\\n\\nSincerely,\\nWilliam Purvis\""
      ]
     },
     "execution_count": 18,
     "metadata": {},
     "output_type": "execute_result"
    }
   ],
   "source": [
    "cover_letter.content"
   ]
  }
 ],
 "metadata": {
  "kernelspec": {
   "display_name": "Python 3",
   "language": "python",
   "name": "python3"
  },
  "language_info": {
   "codemirror_mode": {
    "name": "ipython",
    "version": 3
   },
   "file_extension": ".py",
   "mimetype": "text/x-python",
   "name": "python",
   "nbconvert_exporter": "python",
   "pygments_lexer": "ipython3",
   "version": "3.11.4"
  }
 },
 "nbformat": 4,
 "nbformat_minor": 2
}
